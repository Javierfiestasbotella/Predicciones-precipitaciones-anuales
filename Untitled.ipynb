{
 "cells": [
  {
   "cell_type": "code",
   "execution_count": 2,
   "id": "90a8c4a2",
   "metadata": {},
   "outputs": [
    {
     "name": "stdout",
     "output_type": "stream",
     "text": [
      "Introduce una letra o '.' para salir: A\n",
      "Introduce una letra o '.' para salir: d\n",
      "Introduce una letra o '.' para salir: \n",
      "Introduce una letra o '.' para salir: ge\n",
      "Introduce una letra o '.' para salir: a\n",
      "Introduce una letra o '.' para salir: f\n",
      "Introduce una letra o '.' para salir: .\n",
      "El número de veces que se introdujo la letra 'a' es: 2\n"
     ]
    }
   ],
   "source": [
    "contador_a = 0\n",
    "while True:\n",
    "    letra = input(\"Introduce una letra o '.' para salir: \")\n",
    "\n",
    "    if letra == \".\":\n",
    "        break \n",
    "\n",
    "    if letra == \"a\" or letra == \"A\":\n",
    "        contador_a += 1\n",
    "\n",
    "print(f\"El número de veces que se introdujo la letra 'a' es: {contador_a}\")"
   ]
  },
  {
   "cell_type": "code",
   "execution_count": 3,
   "id": "858e2d93",
   "metadata": {},
   "outputs": [
    {
     "name": "stdout",
     "output_type": "stream",
     "text": [
      "Introduce una cadena de texto (o '.' para salir): d\n",
      "Introduce una cadena de texto (o '.' para salir): e\n",
      "Introduce una cadena de texto (o '.' para salir): A\n",
      "Introduce una cadena de texto (o '.' para salir): a\n",
      "Introduce una cadena de texto (o '.' para salir): g\n",
      "Introduce una cadena de texto (o '.' para salir): a\n",
      "Introduce una cadena de texto (o '.' para salir): .\n",
      "El número de veces que se introdujo la letra 'a' es: 3\n"
     ]
    }
   ],
   "source": [
    "entrada = input(\"Introduce una cadena de texto (o '.' para salir): \")\n",
    "contador_a = entrada.lower().count('a')\n",
    "\n",
    "while entrada != \".\":\n",
    "    entrada = input(\"Introduce una cadena de texto (o '.' para salir): \")\n",
    "    contador_a += entrada.lower().count('a')\n",
    "\n",
    "print(f\"El número de veces que se introdujo la letra 'a' es: {contador_a}\")"
   ]
  }
 ],
 "metadata": {
  "kernelspec": {
   "display_name": "Python 3 (ipykernel)",
   "language": "python",
   "name": "python3"
  },
  "language_info": {
   "codemirror_mode": {
    "name": "ipython",
    "version": 3
   },
   "file_extension": ".py",
   "mimetype": "text/x-python",
   "name": "python",
   "nbconvert_exporter": "python",
   "pygments_lexer": "ipython3",
   "version": "3.9.13"
  }
 },
 "nbformat": 4,
 "nbformat_minor": 5
}
