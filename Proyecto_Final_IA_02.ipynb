{
 "cells": [
  {
   "cell_type": "markdown",
   "id": "2e8c3bb8",
   "metadata": {},
   "source": [
    "2º parte"
   ]
  },
  {
   "cell_type": "code",
   "execution_count": 11,
   "id": "18822ab9",
   "metadata": {},
   "outputs": [],
   "source": [
    "import pandas as pd\n",
    "import numpy as np\n",
    "import matplotlib.pyplot as plt\n",
    "from sklearn.model_selection import train_test_split\n",
    "from sklearn.linear_model import LogisticRegression\n",
    "from sklearn.metrics import classification_report\n",
    "import joblib\n",
    "from sklearn.metrics import confusion_matrix\n",
    "import matplotlib.pyplot as plt\n",
    "import numpy as np\n",
    "from sklearn.metrics import confusion_matrix, accuracy_score, precision_score, recall_score, f1_score"
   ]
  },
  {
   "cell_type": "code",
   "execution_count": null,
   "id": "494f6bb8",
   "metadata": {},
   "outputs": [],
   "source": []
  },
  {
   "cell_type": "code",
   "execution_count": 12,
   "id": "4223c356",
   "metadata": {},
   "outputs": [],
   "source": [
    "# Cargar el modelo entrenado en el primer archivo (proyecto_lluvia)\n",
    "model = joblib.load('modelo_lluvia')  # Asegúrate de que el nombre del archivo sea correcto"
   ]
  },
  {
   "cell_type": "code",
   "execution_count": null,
   "id": "c6e18a6c",
   "metadata": {},
   "outputs": [],
   "source": []
  },
  {
   "cell_type": "code",
   "execution_count": 13,
   "id": "281f9de5",
   "metadata": {},
   "outputs": [],
   "source": [
    "#EN ESTE CODIGO MODIFICO UNOS DATOS QUE ENCONTRÉ EN INTERNET\n",
    "\n",
    "# Cargar el archivo CSV\n",
    "df_norte = pd.read_csv('nordics_weather.csv')\n",
    "\n",
    "# Eliminar las columnas innecesarias\n",
    "df_norte = df_norte.drop(columns=['snow_depth', 'tavg', 'tmax', 'tmin'])\n",
    "\n",
    "# Convertir la columna 'date' a tipo de dato fecha\n",
    "df_norte['date'] = pd.to_datetime(df_norte['date'])\n",
    "\n",
    "# Crear columnas separadas para año y mes\n",
    "df_norte['ano'] = df_norte['date'].dt.year\n",
    "df_norte['mes'] = df_norte['date'].dt.month\n",
    "\n",
    "# Sumar la precipitación diaria para obtener la precipitación mensual\n",
    "df_mensual = df_norte.groupby(['country', 'ano', 'mes']).agg({'precipitation': 'sum'}).reset_index()\n",
    "\n",
    "# Pivotear el DataFrame para tener columnas separadas para cada mes\n",
    "df_mensual = df_mensual.pivot_table(index=['country', 'ano'], columns='mes', values='precipitation', fill_value=0).reset_index()\n",
    "\n",
    "# Cambiar el nombre de la columna 'country' a 'region' para que coincida con tus otros conjuntos de datos\n",
    "df_mensual.rename(columns={'country': 'region'}, inplace=True)\n",
    "\n",
    "# Agregar una columna 'Parametro' con el valor 'Precipitacion'\n",
    "df_mensual['Parametro'] = 'Precipitacion'\n",
    "\n",
    "# Calcular la columna 'anual' como la suma de las precipitaciones mensuales\n",
    "df_mensual['anual'] = df_mensual[list(range(1, 13))].sum(axis=1)\n",
    "\n",
    "# Cambiar los nombres de las columnas 1 a 12 por los nombres de los meses\n",
    "meses = ['enero', 'febrero', 'marzo', 'abril', 'mayo', 'junio', 'julio', 'agosto', 'septiembre', 'octubre', 'noviembre', 'diciembre']\n",
    "df_mensual.rename(columns=dict(zip(range(1, 13), meses)), inplace=True)\n",
    "\n",
    "# Reorganizar el orden de las columnas\n",
    "column_order = ['Parametro', 'region'] + meses + ['anual']\n",
    "\n",
    "df_mensual = df_mensual[column_order]\n",
    "\n",
    "# Guardar el DataFrame resultante en un archivo CSV si es necesario\n",
    "df_mensual.to_csv('nordics_weather_transformed.csv', index=False)\n",
    "\n",
    "\n"
   ]
  },
  {
   "cell_type": "code",
   "execution_count": null,
   "id": "3f6623c7",
   "metadata": {},
   "outputs": [],
   "source": []
  },
  {
   "cell_type": "code",
   "execution_count": 14,
   "id": "12a22a1c",
   "metadata": {},
   "outputs": [
    {
     "name": "stderr",
     "output_type": "stream",
     "text": [
      "C:\\Users\\sgcov\\AppData\\Local\\Temp\\ipykernel_14960\\3085610733.py:13: FutureWarning: Dropping of nuisance columns in DataFrame reductions (with 'numeric_only=None') is deprecated; in a future version this will raise TypeError.  Select only valid columns before calling the reduction.\n",
      "  df.fillna(df.mean(), inplace=True)\n"
     ]
    },
    {
     "name": "stdout",
     "output_type": "stream",
     "text": [
      "              precision    recall  f1-score   support\n",
      "\n",
      "  Inundación       0.94      0.91      0.92        32\n",
      "      Normal       0.92      0.96      0.94        94\n",
      "      Sequía       0.94      0.87      0.91        39\n",
      "\n",
      "    accuracy                           0.93       165\n",
      "   macro avg       0.93      0.91      0.92       165\n",
      "weighted avg       0.93      0.93      0.93       165\n",
      "\n"
     ]
    },
    {
     "name": "stderr",
     "output_type": "stream",
     "text": [
      "C:\\Users\\sgcov\\anaconda3\\lib\\site-packages\\sklearn\\linear_model\\_logistic.py:814: ConvergenceWarning: lbfgs failed to converge (status=1):\n",
      "STOP: TOTAL NO. of ITERATIONS REACHED LIMIT.\n",
      "\n",
      "Increase the number of iterations (max_iter) or scale the data as shown in:\n",
      "    https://scikit-learn.org/stable/modules/preprocessing.html\n",
      "Please also refer to the documentation for alternative solver options:\n",
      "    https://scikit-learn.org/stable/modules/linear_model.html#logistic-regression\n",
      "  n_iter_i = _check_optimize_result(\n"
     ]
    }
   ],
   "source": [
    "# Cargar los datos desde los archivos CSV de 2019, 2020 y 2021\n",
    "df_1981 = pd.read_csv('PREC_1981_2010_Provincias.csv', delimiter=';')\n",
    "df_2019 = pd.read_csv('PREC_2019_Provincias.csv', delimiter=';')\n",
    "df_2020 = pd.read_csv('PREC_2020_Provincias.csv', delimiter=';')\n",
    "df_2021 = pd.read_csv('PREC_2021_Provincias.csv', delimiter=';')\n",
    "df_2022 = pd.read_csv('PREC_2022_Provincias.csv', delimiter=';')\n",
    "df_paises_del_norte = pd.read_csv('nordics_weather_transformed.csv', delimiter=',')\n",
    "\n",
    "# Crea df inicial si aún no está definido\n",
    "if 'df' not in locals():\n",
    "    df = pd.DataFrame()\n",
    "# Llenar los valores nulos con la media de la columna\n",
    "df.fillna(df.mean(), inplace=True)\n",
    "\n",
    "# Combinar los nuevos datos con los datos existentes\n",
    "df = pd.concat([df, df_2019, df_2020, df_2021,df_1981,df_2022,df_paises_del_norte], ignore_index=True)\n",
    "\n",
    "# Predecir el valor anual de lluvia usando el modelo de regresión lineal\n",
    "df['anual_predicho'] = model.predict(df[['enero', 'febrero', 'marzo', 'abril', 'mayo', 'junio', 'julio', 'agosto', 'septiembre', 'octubre', 'noviembre', 'diciembre']])\n",
    "\n",
    "# Ajustar umbrales manuales para determinar el estado climático\n",
    "umbral_sequia = 400.0 # Establecer un valor bajo para la sequía\n",
    "umbral_inundacion = 1000.0  # Establecer un valor alto para la inundación\n",
    "\n",
    "# Crear una columna \"estado_climatico\" basada en los nuevos umbrales usando if\n",
    "df['estado_climatico'] = 'Normal'  # Inicializar con 'Normal'\n",
    "df.loc[df['anual_predicho'] < umbral_sequia, 'estado_climatico'] = 'Sequía'\n",
    "df.loc[df['anual_predicho'] > umbral_inundacion, 'estado_climatico'] = 'Inundación'\n",
    "\n",
    "\n",
    "# Dividir los datos en características (X) y etiquetas (y)\n",
    "X = df[['enero', 'febrero', 'marzo', 'abril', 'mayo', 'junio', 'julio', 'agosto', 'septiembre', 'octubre', 'noviembre', 'diciembre']]\n",
    "y = df['estado_climatico']\n",
    "\n",
    "# Dividir los datos en conjuntos de entrenamiento y prueba\n",
    "X_train, X_test, y_train, y_test = train_test_split(X, y, test_size=0.2, random_state=42)\n",
    "\n",
    "# Crear y ajustar un modelo de regresión logística\n",
    "modelo_clasificacion = LogisticRegression(random_state=42)\n",
    "modelo_clasificacion.fit(X_train, y_train)\n",
    "\n",
    "\n",
    "\n",
    "# Realizar predicciones en el conjunto de prueba\n",
    "y_pred = modelo_clasificacion.predict(X_test)\n",
    "\n",
    "# Evaluar el rendimiento del modelo\n",
    "reporte_clasificacion = classification_report(y_test, y_pred)\n",
    "print(reporte_clasificacion)\n"
   ]
  },
  {
   "cell_type": "code",
   "execution_count": null,
   "id": "4f30fa94",
   "metadata": {},
   "outputs": [],
   "source": []
  },
  {
   "cell_type": "code",
   "execution_count": 15,
   "id": "c3989305",
   "metadata": {},
   "outputs": [
    {
     "data": {
      "image/png": "[encoded data removed]",
      "text/plain": [
       "<Figure size 600x600 with 2 Axes>"
      ]
     },
     "metadata": {},
     "output_type": "display_data"
    },
    {
     "name": "stdout",
     "output_type": "stream",
     "text": [
      "Accuracy: 0.9272727272727272\n",
      "Precision: 0.9278505928275513\n",
      "Recall: 0.9272727272727272\n",
      "F1-score: 0.9269413179413181\n"
     ]
    }
   ],
   "source": [
    "def visualiza_metricas(y_reales, y_predichas, titulo):\n",
    "    matriz_confusion = confusion_matrix(y_reales, y_predichas)\n",
    "    accuracy = accuracy_score(y_reales, y_predichas)\n",
    "    precision = precision_score(y_reales, y_predichas, average='weighted')\n",
    "    recall = recall_score(y_reales, y_predichas, average='weighted')\n",
    "    f1 = f1_score(y_reales, y_predichas, average='weighted')\n",
    "\n",
    "    plt.figure(figsize=(6, 6))\n",
    "    plt.matshow(matriz_confusion, cmap=\"Blues\", fignum=1)\n",
    "    plt.title(\"Matriz de Confusión\")\n",
    "    plt.xlabel(\"Predichas\")\n",
    "    plt.ylabel(\"Reales\")\n",
    "    plt.colorbar()\n",
    "\n",
    "    for i in range(matriz_confusion.shape[0]):\n",
    "        for j in range(matriz_confusion.shape[1]):\n",
    "            plt.text(j, i, str(matriz_confusion[i, j]), va='center', ha='center')\n",
    "\n",
    "    plt.show()\n",
    "\n",
    "    print(\"Accuracy:\", accuracy)\n",
    "    print(\"Precision:\", precision)\n",
    "    print(\"Recall:\", recall)\n",
    "    print(\"F1-score:\", f1)\n",
    "\n",
    "# Realizar predicciones en el conjunto de prueba\n",
    "y_pred_clases = modelo_clasificacion.predict(X_test)\n",
    "\n",
    "# Visualizar las métricas y la matriz de confusión\n",
    "visualiza_metricas(y_test, y_pred, \"Métricas de Clasificación\")\n"
   ]
  },
  {
   "cell_type": "markdown",
   "id": "c34ce3f9",
   "metadata": {},
   "source": [
    "Estos son pruebas con datos inventados"
   ]
  },
  {
   "cell_type": "code",
   "execution_count": 17,
   "id": "79a836d7",
   "metadata": {},
   "outputs": [
    {
     "name": "stdout",
     "output_type": "stream",
     "text": [
      "Predicción de Condiciones Climáticas (Clasificación): Sequía\n",
      "Predicción de Condiciones Climáticas (Clasificación): Posible Inundación\n",
      "Predicción de Condiciones Climáticas (Clasificación): Sequía\n",
      "Predicción de Condiciones Climáticas (Clasificación): Posible Inundación\n",
      "Predicción de Valor Anual de Lluvia (Regresión): 1627.3\n"
     ]
    },
    {
     "name": "stderr",
     "output_type": "stream",
     "text": [
      "C:\\Users\\sgcov\\anaconda3\\lib\\site-packages\\sklearn\\base.py:450: UserWarning: X does not have valid feature names, but LogisticRegression was fitted with feature names\n",
      "  warnings.warn(\n",
      "C:\\Users\\sgcov\\anaconda3\\lib\\site-packages\\sklearn\\base.py:450: UserWarning: X does not have valid feature names, but LogisticRegression was fitted with feature names\n",
      "  warnings.warn(\n",
      "C:\\Users\\sgcov\\anaconda3\\lib\\site-packages\\sklearn\\base.py:450: UserWarning: X does not have valid feature names, but LogisticRegression was fitted with feature names\n",
      "  warnings.warn(\n",
      "C:\\Users\\sgcov\\anaconda3\\lib\\site-packages\\sklearn\\base.py:450: UserWarning: X does not have valid feature names, but LogisticRegression was fitted with feature names\n",
      "  warnings.warn(\n",
      "C:\\Users\\sgcov\\anaconda3\\lib\\site-packages\\sklearn\\base.py:450: UserWarning: X does not have valid feature names, but LinearRegression was fitted with feature names\n",
      "  warnings.warn(\n"
     ]
    }
   ],
   "source": [
    "# Crear un vector de características para la predicción\n",
    "nuevo_dato = np.array([13.4, 57.9, 13.9, 28.4, 18.6, 11.1, 2.0, 6.1, 6.8, 15.6, 3.6, 11.5]).reshape(1, -1)\n",
    "\n",
    "# Crear un vector de características para la predicción\n",
    "nuevo_dato2 = np.array([191.0, 148.9, 128.4, 139.1, 117.5, 58.9, 36.0, 43.5, 93.8, 212.0, 217.2, 241.0]).reshape(1, -1)\n",
    "\n",
    "# Crear un vector de características para la predicción\n",
    "nuevo_dato3 = np.array([31.2, 45.5, 34.8, 20.9, 10.3, 2.7, 23.1, 8.9, 7.6, 5.8, 1.4, 10.2]).reshape(1, -1)\n",
    "\n",
    "bergen = np.array([190.0, 152.0, 170.0, 114.0, 106.0, 132.0, 148.0, 190.0, 283.0, 271.0, 259.0, 235.0]).reshape(1, -1)\n",
    "\n",
    "lista_datos = [nuevo_dato, nuevo_dato2, nuevo_dato3, bergen]\n",
    "\n",
    "for datos in lista_datos:\n",
    "    # Realizar la predicción usando el modelo de clasificación\n",
    "    resultado_clasificacion = modelo_clasificacion.predict(datos)\n",
    "    \n",
    "    # Traducir el resultado de clasificación en una etiqueta legible\n",
    "    if resultado_clasificacion[0] == 'Normal':\n",
    "        condicion_climatica = 'Condiciones Normales'\n",
    "    elif resultado_clasificacion[0] == 'Inundación':\n",
    "        condicion_climatica = 'Posible Inundación'\n",
    "    else:\n",
    "        condicion_climatica = 'Sequía'\n",
    "    \n",
    "    print(f\"Predicción de Condiciones Climáticas (Clasificación): {condicion_climatica}\")\n",
    "    \n",
    "   \n",
    "\n",
    "# Realizar la predicción usando el modelo de regresión\n",
    "resultado_regresion = model.predict(nuevo_dato2)\n",
    "    \n",
    "# Imprimir el resultado de regresión\n",
    "print(f\"Predicción de Valor Anual de Lluvia (Regresión): {round(resultado_regresion[0],1)}\")"
   ]
  }
 ],
 "metadata": {
  "kernelspec": {
   "display_name": "Python 3 (ipykernel)",
   "language": "python",
   "name": "python3"
  },
  "language_info": {
   "codemirror_mode": {
    "name": "ipython",
    "version": 3
   },
   "file_extension": ".py",
   "mimetype": "text/x-python",
   "name": "python",
   "nbconvert_exporter": "python",
   "pygments_lexer": "ipython3",
   "version": "3.9.13"
  }
 },
 "nbformat": 4,
 "nbformat_minor": 5
}
