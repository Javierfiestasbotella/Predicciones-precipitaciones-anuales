{
 "cells": [
  {
   "cell_type": "markdown",
   "id": "76f5b72a",
   "metadata": {},
   "source": [
    "/*\n",
    " * Crea una función que encuentre todas las combinaciones de los números\n",
    " * de una lista que suman el valor objetivo.\n",
    " * - La función recibirá una lista de números enteros positivos\n",
    " *   y un valor objetivo.\n",
    " * - Para obtener las combinaciones sólo se puede usar\n",
    " *   una vez cada elemento de la lista (pero pueden existir\n",
    " *   elementos repetidos en ella).\n",
    " * - Ejemplo: Lista = [1, 5, 3, 2],  Objetivo = 6\n",
    " *   Soluciones: [1, 5] y [1, 3, 2] (ambas combinaciones suman 6)\n",
    " *   (Si no existen combinaciones, retornar una lista vacía)\n",
    " */"
   ]
  },
  {
   "cell_type": "code",
   "execution_count": 5,
   "id": "17083698",
   "metadata": {},
   "outputs": [
    {
     "name": "stdout",
     "output_type": "stream",
     "text": [
      "[2, 1, 3]\n",
      "[2, 3, 1]\n",
      "[2, 4]\n",
      "[1, 1, 4]\n"
     ]
    }
   ],
   "source": [
    "def encontrar_combinaciones_que_suman(lista, objetivo):\n",
    "    def encontrar_combinaciones_recursivas(lista, objetivo, camino, resultado):\n",
    "        # Caso base: si el objetivo es 0, hemos encontrado una combinación válida\n",
    "        if objetivo == 0:\n",
    "            resultado.append(camino[:])\n",
    "            return \n",
    "        \n",
    "        # Si el objetivo es negativo o la lista está vacía, no hay combinación válida\n",
    "        if objetivo < 0 or not lista:\n",
    "            return\n",
    "        \n",
    "        # Intentar agregar el primer elemento de la lista al camino y reducir el objetivo\n",
    "        camino.append(lista[0])\n",
    "        encontrar_combinaciones_recursivas(lista[1:], objetivo - lista[0], camino, resultado)\n",
    "        \n",
    "        # Deshacer la última adición para explorar otras combinaciones\n",
    "        camino.pop()\n",
    "        \n",
    "        # Llamar recursivamente sin agregar el primer elemento al camino\n",
    "        encontrar_combinaciones_recursivas(lista[1:], objetivo, camino, resultado)\n",
    "    \n",
    "    resultado = []\n",
    "    encontrar_combinaciones_recursivas(lista, objetivo, [], resultado)\n",
    "    return resultado\n",
    "\n",
    "# Ejemplo de uso\n",
    "lista = [2,1,3,1,4]\n",
    "objetivo = 6\n",
    "combinaciones = encontrar_combinaciones_que_suman(lista, objetivo)\n",
    "for combo in combinaciones:\n",
    "    print(combo)\n"
   ]
  },
  {
   "cell_type": "code",
   "execution_count": 20,
   "id": "5637956a",
   "metadata": {},
   "outputs": [
    {
     "ename": "KeyboardInterrupt",
     "evalue": "",
     "output_type": "error",
     "traceback": [
      "\u001b[1;31m---------------------------------------------------------------------------\u001b[0m",
      "\u001b[1;31mKeyboardInterrupt\u001b[0m                         Traceback (most recent call last)",
      "\u001b[1;32m~\\AppData\\Local\\Temp\\ipykernel_22940\\2515055320.py\u001b[0m in \u001b[0;36m<module>\u001b[1;34m\u001b[0m\n\u001b[0;32m     34\u001b[0m     \u001b[0mprint\u001b[0m\u001b[1;33m(\u001b[0m\u001b[0msolucion\u001b[0m\u001b[1;33m)\u001b[0m\u001b[1;33m\u001b[0m\u001b[1;33m\u001b[0m\u001b[0m\n\u001b[0;32m     35\u001b[0m \u001b[1;33m\u001b[0m\u001b[0m\n\u001b[1;32m---> 36\u001b[1;33m \u001b[0msuma_objetivo\u001b[0m\u001b[1;33m(\u001b[0m\u001b[1;33m[\u001b[0m\u001b[1;36m2\u001b[0m\u001b[1;33m,\u001b[0m\u001b[1;36m1\u001b[0m\u001b[1;33m,\u001b[0m\u001b[1;36m3\u001b[0m\u001b[1;33m,\u001b[0m\u001b[1;36m1\u001b[0m\u001b[1;33m,\u001b[0m\u001b[1;36m4\u001b[0m\u001b[1;33m]\u001b[0m\u001b[1;33m,\u001b[0m\u001b[1;36m6\u001b[0m\u001b[1;33m)\u001b[0m\u001b[1;33m\u001b[0m\u001b[1;33m\u001b[0m\u001b[0m\n\u001b[0m\u001b[0;32m     37\u001b[0m \u001b[1;33m\u001b[0m\u001b[0m\n",
      "\u001b[1;32m~\\AppData\\Local\\Temp\\ipykernel_22940\\2515055320.py\u001b[0m in \u001b[0;36msuma_objetivo\u001b[1;34m(lista, n)\u001b[0m\n\u001b[0;32m     22\u001b[0m                     \u001b[0mindice\u001b[0m\u001b[1;33m+=\u001b[0m\u001b[1;36m1\u001b[0m\u001b[1;33m\u001b[0m\u001b[1;33m\u001b[0m\u001b[0m\n\u001b[0;32m     23\u001b[0m                 \u001b[1;32melif\u001b[0m \u001b[0mtermino\u001b[0m\u001b[1;33m+\u001b[0m\u001b[0mobjetivo\u001b[0m \u001b[1;33m<\u001b[0m \u001b[0mn\u001b[0m\u001b[1;33m:\u001b[0m\u001b[1;33m\u001b[0m\u001b[1;33m\u001b[0m\u001b[0m\n\u001b[1;32m---> 24\u001b[1;33m                     \u001b[1;32mif\u001b[0m \u001b[0msum\u001b[0m\u001b[1;33m(\u001b[0m\u001b[0mrecluta\u001b[0m\u001b[1;33m)\u001b[0m\u001b[1;33m+\u001b[0m\u001b[0mobjetivo\u001b[0m\u001b[1;33m==\u001b[0m\u001b[0mn\u001b[0m\u001b[1;33m:\u001b[0m\u001b[1;33m\u001b[0m\u001b[1;33m\u001b[0m\u001b[0m\n\u001b[0m\u001b[0;32m     25\u001b[0m                         \u001b[0msolucion\u001b[0m\u001b[1;33m.\u001b[0m\u001b[0mappend\u001b[0m\u001b[1;33m(\u001b[0m\u001b[1;33m[\u001b[0m\u001b[0mn\u001b[0m\u001b[1;33m,\u001b[0m\u001b[0mobjetivo\u001b[0m\u001b[1;33m]\u001b[0m\u001b[1;33m.\u001b[0m\u001b[0mextend\u001b[0m\u001b[1;33m(\u001b[0m\u001b[0mrecluta\u001b[0m\u001b[1;33m)\u001b[0m\u001b[1;33m)\u001b[0m\u001b[1;33m\u001b[0m\u001b[1;33m\u001b[0m\u001b[0m\n\u001b[0;32m     26\u001b[0m                         \u001b[0mindice\u001b[0m\u001b[1;33m+=\u001b[0m\u001b[1;36m1\u001b[0m\u001b[1;33m\u001b[0m\u001b[1;33m\u001b[0m\u001b[0m\n",
      "\u001b[1;31mKeyboardInterrupt\u001b[0m: "
     ]
    }
   ],
   "source": [
    "def suma_objetivo(lista,n):\n",
    "    solucion=[]\n",
    "    for i in lista:\n",
    "        if i > n:\n",
    "            lista.pop(i)\n",
    "    stop=True\n",
    "    while stop:\n",
    "        recluta=[]\n",
    "        objetivo=0\n",
    "        indice=0\n",
    "        termino=l[indice]\n",
    "        for idx, elemento in enumerate(lista, start=0):\n",
    "            if idx == termino:\n",
    "                continue\n",
    "            elif termino==n:\n",
    "                solucion.append(n)\n",
    "                indice+=1\n",
    "            elif termino < n:\n",
    "                if termino+objetivo == n:\n",
    "                    solucion.append([n,objetivo]) \n",
    "                    objetivo=0\n",
    "                    indice+=1\n",
    "                elif termino+objetivo < n: \n",
    "                    if sum(recluta)+objetivo==n:\n",
    "                        solucion.append([n,objetivo].extend(recluta)) \n",
    "                        indice+=1\n",
    "                    else:\n",
    "                        recluta.append(termino)\n",
    "                        indice+=1                  \n",
    "        if indice+1>len(lista):\n",
    "            stop=False\n",
    "        else:\n",
    "            indice+=1  \n",
    "    print(solucion)\n",
    "    \n",
    "suma_objetivo([2,1,3,1,4],6)\n",
    "    "
   ]
  },
  {
   "cell_type": "code",
   "execution_count": 28,
   "id": "188da971",
   "metadata": {},
   "outputs": [
    {
     "name": "stdout",
     "output_type": "stream",
     "text": [
      "[[2, 4], [1, 2, 3], [1, 1, 4]]\n"
     ]
    }
   ],
   "source": [
    "def suma_objetivo(lista, n):\n",
    "    def encontrar_combinaciones(objetivo, indice, combinaciones):\n",
    "        if objetivo == 0:\n",
    "            solucion.append(sorted(combinaciones[:]))\n",
    "            return\n",
    "        if objetivo < 0 or indice == len(lista):\n",
    "            return\n",
    "        for i in range(indice, len(lista)):\n",
    "            combinaciones.append(lista[i])\n",
    "            encontrar_combinaciones(objetivo - lista[i], i + 1, combinaciones)\n",
    "            combinaciones.pop()\n",
    "\n",
    "    solucion = []\n",
    "    encontrar_combinaciones(n, 0, [])\n",
    "    \n",
    "    # Eliminamos los duplicados usando set y sorted para ordenar\n",
    "    solucion = list(set(tuple(sorted(combinacion_final)) for combinacion_final in solucion))\n",
    "    return [list(combinacion_final) for combinacion_final in solucion]\n",
    "\n",
    "print(suma_objetivo([2, 1, 3, 1, 4], 6))\n"
   ]
  },
  {
   "cell_type": "markdown",
   "id": "826587d8",
   "metadata": {},
   "source": [
    "mi_lista = [1, 2, 3, 4, 5]\n",
    "indice_a_omitir = 2\n",
    "\n",
    "for indice, elemento in enumerate(mi_lista, start=0):\n",
    "    if indice == indice_a_omitir:\n",
    "        continue\n",
    "    print(elemento)\n",
    "\n",
    "\n",
    "2,1,3,1,4\n",
    "[2.4],[2,1,3],[1,1,4]"
   ]
  },
  {
   "cell_type": "code",
   "execution_count": 13,
   "id": "515f758e",
   "metadata": {},
   "outputs": [
    {
     "name": "stdout",
     "output_type": "stream",
     "text": [
      "[3, 5, 7, 8, [4, 5]]\n"
     ]
    }
   ],
   "source": [
    "l=[3,5,7,8]\n",
    "l.append([4,5])\n",
    "print(l)\n"
   ]
  }
 ],
 "metadata": {
  "kernelspec": {
   "display_name": "Python 3 (ipykernel)",
   "language": "python",
   "name": "python3"
  },
  "language_info": {
   "codemirror_mode": {
    "name": "ipython",
    "version": 3
   },
   "file_extension": ".py",
   "mimetype": "text/x-python",
   "name": "python",
   "nbconvert_exporter": "python",
   "pygments_lexer": "ipython3",
   "version": "3.9.13"
  }
 },
 "nbformat": 4,
 "nbformat_minor": 5
}
