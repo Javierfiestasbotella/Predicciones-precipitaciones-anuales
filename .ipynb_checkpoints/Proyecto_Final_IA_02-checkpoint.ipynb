{
 "cells": [
  {
   "cell_type": "markdown",
   "id": "2f49adad",
   "metadata": {},
   "source": [
    "2º parte"
   ]
  },
  {
   "cell_type": "code",
   "execution_count": null,
   "id": "ddc55867",
   "metadata": {},
   "outputs": [],
   "source": []
  },
  {
   "cell_type": "code",
   "execution_count": null,
   "id": "971d465c",
   "metadata": {},
   "outputs": [],
   "source": [
    "import pandas as pd\n",
    "import numpy as np\n",
    "from sklearn.model_selection import train_test_split\n",
    "from sklearn.linear_model import LogisticRegression\n",
    "from sklearn.metrics import classification_report\n",
    "import joblib\n",
    "from sklearn.metrics import confusion_matrix\n",
    "import matplotlib.pyplot as plt\n",
    "from sklearn.metrics import confusion_matrix, accuracy_score, precision_score, recall_score, f1_score"
   ]
  },
  {
   "cell_type": "code",
   "execution_count": null,
   "id": "dc4a59ac",
   "metadata": {},
   "outputs": [],
   "source": []
  },
  {
   "cell_type": "code",
   "execution_count": null,
   "id": "69fe4842",
   "metadata": {},
   "outputs": [],
   "source": [
    "#EN ESTE CODIGO MODIFICO UNOS DATOS QUE ENCONTRÉ EN INTERNET\n",
    "\n",
    "# Cargar el archivo CSV\n",
    "df_norte = pd.read_csv('nordics_weather.csv')\n",
    "\n",
    "# Eliminar las columnas innecesarias\n",
    "df_norte = df_norte.drop(columns=['snow_depth', 'tavg', 'tmax', 'tmin'])\n",
    "\n",
    "# Convertir la columna 'date' a tipo de dato fecha\n",
    "df_norte['date'] = pd.to_datetime(df_norte['date'])\n",
    "\n",
    "# Crear columnas separadas para año y mes\n",
    "df_norte['ano'] = df_norte['date'].dt.year\n",
    "df_norte['mes'] = df_norte['date'].dt.month\n",
    "\n",
    "# Sumar la precipitación diaria para obtener la precipitación mensual\n",
    "df_mensual = df_norte.groupby(['country', 'ano', 'mes']).agg({'precipitation': 'sum'}).reset_index()\n",
    "\n",
    "# Pivotear el DataFrame para tener columnas separadas para cada mes\n",
    "df_mensual = df_mensual.pivot_table(index=['country', 'ano'], columns='mes', values='precipitation', fill_value=0).reset_index()\n",
    "\n",
    "# Cambiar el nombre de la columna 'country' a 'region' para que coincida con tus otros conjuntos de datos\n",
    "df_mensual.rename(columns={'country': 'region'}, inplace=True)\n",
    "\n",
    "# Agregar una columna 'Parametro' con el valor 'Precipitacion'\n",
    "df_mensual['Parametro'] = 'Precipitacion'\n",
    "\n",
    "# Calcular la columna 'anual' como la suma de las precipitaciones mensuales\n",
    "df_mensual['anual'] = df_mensual[list(range(1, 13))].sum(axis=1)\n",
    "\n",
    "# Cambiar los nombres de las columnas 1 a 12 por los nombres de los meses\n",
    "meses = ['enero', 'febrero', 'marzo', 'abril', 'mayo', 'junio', 'julio', 'agosto', 'septiembre', 'octubre', 'noviembre', 'diciembre']\n",
    "df_mensual.rename(columns=dict(zip(range(1, 13), meses)), inplace=True)\n",
    "\n",
    "# Reorganizar el orden de las columnas\n",
    "column_order = ['Parametro', 'region'] + meses + ['anual']\n",
    "\n",
    "df_mensual = df_mensual[column_order]\n",
    "\n",
    "# Guardar el DataFrame resultante en un archivo CSV si es necesario\n",
    "df_mensual.to_csv('nordics_weather_transformed.csv', index=False)\n"
   ]
  },
  {
   "cell_type": "code",
   "execution_count": null,
   "id": "9cf5138d",
   "metadata": {},
   "outputs": [],
   "source": []
  },
  {
   "cell_type": "code",
   "execution_count": null,
   "id": "7b17b34a",
   "metadata": {},
   "outputs": [],
   "source": [
    "# Cargar el modelo entrenado en el primer archivo (proyecto_lluvia)\n",
    "modelo_regresion = joblib.load('modelo_lluvia')  # Asegúrate de que el nombre del archivo sea correcto\n",
    "\n",
    "# Cargar los datos desde los archivos CSV de 2019, 2020 y 2021\n",
    "df_1981 = pd.read_csv('PREC_1981_2010_Provincias.csv', delimiter=';')\n",
    "df_2019 = pd.read_csv('PREC_2019_Provincias.csv', delimiter=';')\n",
    "df_2020 = pd.read_csv('PREC_2020_Provincias.csv', delimiter=';')\n",
    "df_2021 = pd.read_csv('PREC_2021_Provincias.csv', delimiter=';')\n",
    "df_2022 = pd.read_csv('PREC_2022_Provincias.csv', delimiter=';')\n",
    "df_paises_del_norte = pd.read_csv('nordics_weather_transformed.csv', delimiter=',')\n",
    "\n",
    "# Crea df inicial si aún no está definido\n",
    "if 'df' not in locals():\n",
    "    df = pd.DataFrame()\n",
    "# Llenar los valores nulos con la media de la columna\n",
    "df.fillna(df.mean(), inplace=True)\n",
    "\n",
    "# Combinar los nuevos datos con los datos existentes\n",
    "df = pd.concat([df, df_2019, df_2020, df_2021,df_1981,df_2022,df_paises_del_norte], ignore_index=True)\n",
    "\n",
    "# Predecir el valor anual de lluvia usando el modelo de regresión lineal\n",
    "df['anual_predicho'] = modelo_regresion.predict(df[['enero', 'febrero', 'marzo', 'abril', 'mayo', 'junio', 'julio', 'agosto', 'septiembre', 'octubre', 'noviembre', 'diciembre']])\n",
    "\n",
    "# Ajustar umbrales manuales para determinar el estado climático\n",
    "umbral_sequia = 400.0 # Establecer un valor bajo para la sequía\n",
    "umbral_inundacion = 1000.0  # Establecer un valor alto para la inundación\n",
    "\n",
    "# Crear una columna \"estado_climatico\" basada en los nuevos umbrales usando if\n",
    "df['estado_climatico'] = 'Normal'  # Inicializar con 'Normal'\n",
    "df.loc[df['anual_predicho'] < umbral_sequia, 'estado_climatico'] = 'Sequía'\n",
    "df.loc[df['anual_predicho'] > umbral_inundacion, 'estado_climatico'] = 'Inundación'\n",
    "\n",
    "\n",
    "# Dividir los datos en características (X) y etiquetas (y)\n",
    "X = df[['enero', 'febrero', 'marzo', 'abril', 'mayo', 'junio', 'julio', 'agosto', 'septiembre', 'octubre', 'noviembre', 'diciembre']]\n",
    "y = df['estado_climatico']"
   ]
  },
  {
   "cell_type": "code",
   "execution_count": null,
   "id": "03db6630",
   "metadata": {},
   "outputs": [],
   "source": []
  },
  {
   "cell_type": "code",
   "execution_count": null,
   "id": "ff51f105",
   "metadata": {},
   "outputs": [],
   "source": [
    "# Dividir los datos en conjuntos de entrenamiento y prueba\n",
    "X_train, X_test, y_train, y_test = train_test_split(X, y, test_size=0.2, random_state=42)\n",
    "\n",
    "# Crear y ajustar un modelo de regresión logística\n",
    "modelo_clasificacion = LogisticRegression(random_state=42)\n",
    "modelo_clasificacion.fit(X_train, y_train)\n",
    "\n",
    "\n",
    "\n",
    "# Realizar predicciones en el conjunto de prueba\n",
    "y_pred = modelo_clasificacion.predict(X_test)\n",
    "\n",
    "# Evaluar el rendimiento del modelo\n",
    "reporte_clasificacion = classification_report(y_test, y_pred)\n",
    "print(reporte_clasificacion)\n"
   ]
  }
 ],
 "metadata": {
  "kernelspec": {
   "display_name": "Python 3 (ipykernel)",
   "language": "python",
   "name": "python3"
  },
  "language_info": {
   "codemirror_mode": {
    "name": "ipython",
    "version": 3
   },
   "file_extension": ".py",
   "mimetype": "text/x-python",
   "name": "python",
   "nbconvert_exporter": "python",
   "pygments_lexer": "ipython3",
   "version": "3.9.13"
  }
 },
 "nbformat": 4,
 "nbformat_minor": 5
}
