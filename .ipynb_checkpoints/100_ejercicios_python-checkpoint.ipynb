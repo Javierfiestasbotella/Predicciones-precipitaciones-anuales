{
 "cells": [
  {
   "cell_type": "code",
   "execution_count": null,
   "id": "debcb1e0",
   "metadata": {},
   "outputs": [],
   "source": []
  },
  {
   "cell_type": "code",
   "execution_count": 8,
   "id": "66e8cf3a",
   "metadata": {},
   "outputs": [
    {
     "name": "stdout",
     "output_type": "stream",
     "text": [
      "1 Francia 36.2\n"
     ]
    }
   ],
   "source": [
    "#Ejercicio 1\n",
    "a,b,c=1,'Francia',36.2\n",
    "print(a,b,c)"
   ]
  },
  {
   "cell_type": "code",
   "execution_count": 9,
   "id": "83ae0294",
   "metadata": {},
   "outputs": [
    {
     "name": "stdout",
     "output_type": "stream",
     "text": [
      "Está bien\n"
     ]
    }
   ],
   "source": [
    "#Ejercicio 2\n",
    "ch='Hola'\n",
    "ch='Está bien'\n",
    "print(ch)"
   ]
  },
  {
   "cell_type": "code",
   "execution_count": 15,
   "id": "76759f77",
   "metadata": {},
   "outputs": [
    {
     "name": "stdout",
     "output_type": "stream",
     "text": [
      "<class 'str'>\n",
      "<class 'str'>\n"
     ]
    }
   ],
   "source": [
    "#Ejercicio 3\n",
    "x,y=3,8.5\n",
    "x=str()\n",
    "y=str()\n",
    "print(type(x))\n",
    "print(type(y))"
   ]
  },
  {
   "cell_type": "code",
   "execution_count": 18,
   "id": "aa177d97",
   "metadata": {},
   "outputs": [
    {
     "name": "stdout",
     "output_type": "stream",
     "text": [
      "Introduce tu peso en Kg: 85\n",
      "El peso introducido es de 85Kg\n"
     ]
    }
   ],
   "source": [
    "#Ejercicio 4\n",
    "peso=int(input('Introduce tu peso en Kg: '))\n",
    "print(f'El peso introducido es de {peso}Kg')"
   ]
  },
  {
   "cell_type": "code",
   "execution_count": 1,
   "id": "6ad44334",
   "metadata": {},
   "outputs": [
    {
     "name": "stdout",
     "output_type": "stream",
     "text": [
      "False\n",
      "True\n",
      "False\n"
     ]
    }
   ],
   "source": [
    "#Ejercicio 53\n",
    "def presenciaVocal(frase):\n",
    "    for i in frase:\n",
    "        if i in 'AEIOUaeiou':\n",
    "            return True\n",
    "    return False\n",
    "        \n",
    "print(presenciaVocal('DFGHrt'))\n",
    "print(presenciaVocal('La casa de papel'))\n",
    "print(presenciaVocal('Ll'))"
   ]
  },
  {
   "cell_type": "code",
   "execution_count": 2,
   "id": "9afe6145",
   "metadata": {},
   "outputs": [
    {
     "name": "stdout",
     "output_type": "stream",
     "text": [
      "Franciaeshermosa\n"
     ]
    }
   ],
   "source": [
    "#Ejercicio 54\n",
    "def eliminarEsp(frase):\n",
    "    return ''.join(frase.split(' '))\n",
    "print(eliminarEsp('Francia es hermosa'))"
   ]
  },
  {
   "cell_type": "code",
   "execution_count": 3,
   "id": "b7e32d4e",
   "metadata": {},
   "outputs": [
    {
     "name": "stdout",
     "output_type": "stream",
     "text": [
      "[2, 6]\n"
     ]
    }
   ],
   "source": [
    "#Ejercicio 55\n",
    "def posicionEltLista(L,x):\n",
    "    solution=[]\n",
    "    for i in range (len(L)):\n",
    "        if L[i]==x:\n",
    "            solution.append(i) \n",
    "    return solution\n",
    "    \n",
    "print(posicionEltLista([1,2,3,6,8,7,3],3))"
   ]
  },
  {
   "cell_type": "code",
   "execution_count": 4,
   "id": "72c1f0e9",
   "metadata": {},
   "outputs": [
    {
     "name": "stdout",
     "output_type": "stream",
     "text": [
      "Hola todos\n"
     ]
    }
   ],
   "source": [
    "#ejercicio 56\n",
    "def filtrarPalabras(frase,longitudMinima):\n",
    "    return' '.join([x for x in frase.split(' ') if len(x)>=longitudMinima])\n",
    "    \n",
    "print(filtrarPalabras('Hola a todos',4))"
   ]
  },
  {
   "cell_type": "code",
   "execution_count": 5,
   "id": "afa50e64",
   "metadata": {},
   "outputs": [
    {
     "name": "stdout",
     "output_type": "stream",
     "text": [
      "mundo el todo a Hola\n"
     ]
    }
   ],
   "source": [
    "#Ejercicio 57\n",
    "def invertirFrase(frase):\n",
    "    return ' '.join(frase.split(' ')[::-1])\n",
    "print(invertirFrase('Hola a todo el mundo'))\n"
   ]
  },
  {
   "cell_type": "code",
   "execution_count": 6,
   "id": "ac30af64",
   "metadata": {},
   "outputs": [
    {
     "name": "stdout",
     "output_type": "stream",
     "text": [
      "[(1, 1), ('b', 2), (2, 2), (3, 1), (4, 1)]\n"
     ]
    }
   ],
   "source": [
    "#Ejercicio 58\n",
    "def numeroOcurrencias(lista):\n",
    "    solution=[]\n",
    "    valor_ocurrencias=0\n",
    "    x=dict(zip(lista,map(lambda x: lista.count(x),lista)))\n",
    "    for i,j in x.items():\n",
    "        solution.append((i,j))\n",
    "    return solution\n",
    "        \n",
    "        \n",
    "        \n",
    "print(numeroOcurrencias([1,'b',2,3,2,4,'b']))\n",
    "        "
   ]
  },
  {
   "cell_type": "code",
   "execution_count": 7,
   "id": "34909c21",
   "metadata": {},
   "outputs": [
    {
     "name": "stdout",
     "output_type": "stream",
     "text": [
      "[-7, 2, 3, 4, 9]\n"
     ]
    }
   ],
   "source": [
    "#Ejercicio 59\n",
    "def unionLista(l1,l2,l3):\n",
    "    solution=[]\n",
    "    listas=[l1,l2,l3]\n",
    "    n=0\n",
    "    while n <=len(listas)-1:\n",
    "        for i in listas[n]:\n",
    "            if i not in solution:\n",
    "                solution.append(i)\n",
    "        n+=1\n",
    "    return sorted(solution)\n",
    "print(unionLista([4,2,3],[],[4,-7,9]))\n"
   ]
  }
 ],
 "metadata": {
  "kernelspec": {
   "display_name": "Python 3 (ipykernel)",
   "language": "python",
   "name": "python3"
  },
  "language_info": {
   "codemirror_mode": {
    "name": "ipython",
    "version": 3
   },
   "file_extension": ".py",
   "mimetype": "text/x-python",
   "name": "python",
   "nbconvert_exporter": "python",
   "pygments_lexer": "ipython3",
   "version": "3.9.13"
  }
 },
 "nbformat": 4,
 "nbformat_minor": 5
}
